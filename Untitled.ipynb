{
 "cells": [
  {
   "cell_type": "markdown",
   "id": "56b7b1bf",
   "metadata": {},
   "source": [
    "1. Подберите скорость обучения (eta) и количество итераций"
   ]
  },
  {
   "cell_type": "code",
   "execution_count": null,
   "id": "fb85581f",
   "metadata": {},
   "outputs": [],
   "source": [
    "import numpy as np\n",
    "import matplotlib.pyplot as plt"
   ]
  },
  {
   "cell_type": "code",
   "execution_count": null,
   "id": "3c475cc4",
   "metadata": {},
   "outputs": [],
   "source": [
    "# Те же данные, что в методичке в задаче про ЕГЭ \n",
    "X = np.array([[ 1,  1],\n",
    "              [ 1,  1],\n",
    "              [ 1,  2],\n",
    "              [ 1,  5],\n",
    "              [ 1,  3],\n",
    "              [ 1,  0],\n",
    "              [ 1,  5],\n",
    "              [ 1, 10],\n",
    "              [ 1,  1],\n",
    "              [ 1,  2]])\n",
    "y = [45, 55, 50, 55, 60, 35, 75, 80, 50, 60]"
   ]
  },
  {
   "cell_type": "code",
   "execution_count": null,
   "id": "73d3d707",
   "metadata": {},
   "outputs": [],
   "source": [
    "# реализуем функцию, определяющую среднеквадратичную ошибку\n",
    "\n",
    "def calc_mse(y, y_pred):\n",
    "    err = np.mean((y - y_pred)**2)\n",
    "    return err"
   ]
  },
  {
   "cell_type": "code",
   "execution_count": null,
   "id": "db6e912d",
   "metadata": {},
   "outputs": [],
   "source": [
    "n = X.shape[0]\n",
    "\n",
    "eta = 1e-1\n",
    "n_iter = 200\n",
    "\n",
    "W = np.array([1, 0.5])\n",
    "print(f'Number of objects = {n} \\\n",
    "       \\nLearning rate = {eta} \\\n",
    "       \\nInitial weights = {W} \\n')\n",
    "\n",
    "for i in range(n_iter):\n",
    "    y_pred = np.dot(X, W)\n",
    "    err = calc_mse(y, y_pred)\n",
    "    for k in range(W.shape[0]):\n",
    "        W[k] -= eta * (1/n * 2 * X[:, k] @ (y_pred - y))\n",
    "    if i % 50 == 0:\n",
    "            eta /= 1.5\n",
    "            print(f'Iteration #{i}: W_new = {W}, MSE = {round(err, 2)}')"
   ]
  },
  {
   "cell_type": "code",
   "execution_count": null,
   "id": "695ee76a",
   "metadata": {},
   "outputs": [],
   "source": [
    "n = X.shape[0]\n",
    "n"
   ]
  },
  {
   "cell_type": "code",
   "execution_count": null,
   "id": "e4a03471",
   "metadata": {},
   "outputs": [],
   "source": [
    "eta = 1e-1\n",
    "n_iter = 500\n",
    "\n",
    "W = np.array([1, 0.5])\n",
    "W.shape[0]"
   ]
  },
  {
   "cell_type": "code",
   "execution_count": null,
   "id": "e59a69e8",
   "metadata": {},
   "outputs": [],
   "source": [
    "dQ = 2/n * X.T @ (X @ W - y) # градиент функции ошибки\n",
    "dQ"
   ]
  },
  {
   "cell_type": "code",
   "execution_count": null,
   "id": "71731e49",
   "metadata": {},
   "outputs": [],
   "source": [
    "eta = (1e-3)"
   ]
  },
  {
   "cell_type": "code",
   "execution_count": null,
   "id": "56c317aa",
   "metadata": {},
   "outputs": [],
   "source": [
    "grad = eta * dQ\n",
    "grad"
   ]
  },
  {
   "cell_type": "code",
   "execution_count": null,
   "id": "49e9a27a",
   "metadata": {},
   "outputs": [],
   "source": [
    "print(f'previous weights', W)\n",
    "W = W - grad\n",
    "print(f'new weights', W)"
   ]
  },
  {
   "cell_type": "code",
   "execution_count": null,
   "id": "7a0bbc7a",
   "metadata": {},
   "outputs": [],
   "source": [
    "y_pred_grad = X @ W\n",
    "plt.scatter(X[:, 1], y)\n",
    "plt.plot(X[:, 1], y_pred_grad, label='gradient descent', c='g')\n",
    "plt.legend()\n",
    "plt.show()"
   ]
  },
  {
   "cell_type": "code",
   "execution_count": null,
   "id": "c6e4fc21",
   "metadata": {},
   "outputs": [],
   "source": [
    "def grad(eta, n_inter, X, W):\n",
    "    print(f'Number of objects = {n} \\\n",
    "       \\nLearning rate = {eta} \\\n",
    "       \\nInitial weights = {W} \\n')\n",
    "\n",
    "    for i in range(n_iter): # от 1 до n_iter\n",
    "        y_pred = np.dot(X, W) # предсказываем\n",
    "        err = calc_mse(y, y_pred)  # считаем ошибку\n",
    "        for k in range(W.shape[0]): # для каждого веса\n",
    "            W[k] -= eta * (1/n * 2 * X[:, k] @ (y_pred - y)) #\n",
    " \n",
    "\n",
    "        if i % 50 == 0:\n",
    "            eta /= 1.5\n",
    "            print(f'Iteration #{i}: W_new = {W}, MSE = {round(err, 2)}')"
   ]
  },
  {
   "cell_type": "code",
   "execution_count": null,
   "id": "3187145f",
   "metadata": {},
   "outputs": [],
   "source": [
    "grad(eta, n_iter, X, W)\n",
    "    "
   ]
  },
  {
   "cell_type": "code",
   "execution_count": null,
   "id": "9f2bcf86",
   "metadata": {},
   "outputs": [],
   "source": []
  }
 ],
 "metadata": {
  "kernelspec": {
   "display_name": "Python 3",
   "language": "python",
   "name": "python3"
  },
  "language_info": {
   "codemirror_mode": {
    "name": "ipython",
    "version": 3
   },
   "file_extension": ".py",
   "mimetype": "text/x-python",
   "name": "python",
   "nbconvert_exporter": "python",
   "pygments_lexer": "ipython3",
   "version": "3.8.8"
  }
 },
 "nbformat": 4,
 "nbformat_minor": 5
}
